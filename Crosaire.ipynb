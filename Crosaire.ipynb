{
 "cells": [
  {
   "cell_type": "code",
   "execution_count": 100,
   "metadata": {},
   "outputs": [],
   "source": [
    "# !pip install lxml\n",
    "# !pip install numpy\n",
    "# !pip install --upgrade pip"
   ]
  },
  {
   "cell_type": "code",
   "execution_count": 101,
   "metadata": {},
   "outputs": [],
   "source": [
    "from lxml import html\n",
    "import requests\n",
    "import numpy as np\n",
    "import re\n",
    "# -*- coding: utf-8 -*-"
   ]
  },
  {
   "cell_type": "code",
   "execution_count": 102,
   "metadata": {},
   "outputs": [],
   "source": [
    "base_url = \"https://www.irishtimes.com\"\n",
    "blog_url = \"/crosaire-blog\"\n",
    "paginated_url = \"?sectionTeaserPage-7.4322291=\"\n",
    "crosaire_url = base_url + blog_url + paginated_url"
   ]
  },
  {
   "cell_type": "code",
   "execution_count": 103,
   "metadata": {},
   "outputs": [],
   "source": [
    "def pull_clues(page_count):\n",
    "    clues = []\n",
    "    \n",
    "    for i in range(page_count):\n",
    "        page = requests.get(crosaire_url + str(i))\n",
    "        tree = html.fromstring(page.content)\n",
    "        links = tree.xpath('''\n",
    "            //body/div[@id=\"wrapper\"]\n",
    "            /div[@id=\"torso\"]/div[@class=\"container\"]/div[@class=\"bt-container\"]\n",
    "            /div[@class=\"row\"]/div[@id=\"content_left\"]/div[@class=\"row sectionteaser\"]\n",
    "            /div/a''')\n",
    "\n",
    "        for elt in links:\n",
    "            clue_page_url = base_url + elt.attrib['href']\n",
    "            clue_page = requests.get(clue_page_url)\n",
    "            clue_tree = html.fromstring(clue_page.content)\n",
    "\n",
    "            clue_list = clue_tree.xpath('''//body/div[@id=\"wrapper\"]\n",
    "                /div[@id=\"torso\"]/div[@class=\"container\"]/div[@class=\"bt-container\"]\n",
    "                /div[@class=\"row\"]/div[@id=\"content_left\"]/article[@class=\"article row\"]\n",
    "                /div[@class=\"article_holder span8 genre-advice\"]/section[@class=\"article_body\"]\n",
    "                /div[@class=\"article_bodycopy\"]/p''')\n",
    "\n",
    "            for clue in clue_list:\n",
    "                clues.append(clue.text_content().replace(\"â\",\"\\'\"))\n",
    "    \n",
    "    return clues"
   ]
  },
  {
   "cell_type": "code",
   "execution_count": 173,
   "metadata": {},
   "outputs": [],
   "source": [
    "clues = pull_clues(100)"
   ]
  },
  {
   "cell_type": "code",
   "execution_count": 182,
   "metadata": {},
   "outputs": [],
   "source": [
    "def getClue(explanation):\n",
    "    return re.sub(\"[\\(].*?[\\)]\", \"\", explanation)\n",
    "\n",
    "def getParts(explanation):\n",
    "    parts = []\n",
    "    for part in re.findall('\\(.*?\\)', explanation):\n",
    "        part = part.encode(\"ascii\", \"ignore\")\n",
    "        parts.append(str(part).replace(\"b\\'(\", \"\").replace(\"b\\\"(\", \"\").replace(\")\\\"\", \"\").replace(\")\\'\", \"\"))\n",
    "    return parts\n",
    "\n",
    "def getAnswerBits(parts):\n",
    "    words = []\n",
    "    for part in parts:\n",
    "        for bit in re.findall('([A-Z]+(?:(?!\\s?[A-Z][a-z])\\s?[A-Z])+)', part):\n",
    "            words.append(bit.encode(\"ascii\", \"ignore\"))\n",
    "    return words\n",
    "\n",
    "def getAnswer(answerBits):\n",
    "    if len(answerBits) > 0:\n",
    "        return sorted(answerBits, key=len)[-1]\n",
    "    return \"\"\n",
    "\n",
    "class ClueSegment:\n",
    "    def __init__(self, cluePart, answerPart):\n",
    "        self.cluePart = cluePart\n",
    "        self.answerPart = answerPart\n",
    "        \n",
    "    def __repr__(self):\n",
    "        return \"Clue Part: %s; Answer Part: %s\"  % (self.cluePart, self.answerPart)\n",
    "\n",
    "def getClueSegments(explanation):\n",
    "    clueParts = []\n",
    "    for part in explanation.split(\")\"):\n",
    "        if \"(\" in part:\n",
    "            split = part.split(\"(\")\n",
    "            clueParts.append(ClueSegment(split[0], split[1]))\n",
    "    return clueParts\n",
    "\n",
    "class Clue:    \n",
    "    def __init__(self, explanation):\n",
    "        self.explanation = explanation.lstrip('0123456789.- ').rstrip(' ,')\n",
    "        self.clue = getClue(self.explanation)\n",
    "        self.parts = getParts(self.explanation)\n",
    "        self.answerBits = getAnswerBits(self.parts)\n",
    "        self.answer = getAnswer(self.answerBits)\n",
    "        self.clueSegments = getClueSegments(self.explanation)"
   ]
  },
  {
   "cell_type": "code",
   "execution_count": 183,
   "metadata": {},
   "outputs": [],
   "source": [
    "anagramIndicators = set()\n",
    "reversalIndicators = set()\n",
    "homophoneIndicators = set()\n",
    "positionIndicators = set()\n",
    "otherIndicators = set()"
   ]
  },
  {
   "cell_type": "code",
   "execution_count": 184,
   "metadata": {},
   "outputs": [],
   "source": [
    "clueObjects = []\n",
    "for exp in clues:\n",
    "    if (exp != 'Across:' and exp != 'Down:'):\n",
    "        clue = Clue(exp)\n",
    "        clueObjects.append(clue)\n",
    "#         print(clue.clueSegments)"
   ]
  },
  {
   "cell_type": "code",
   "execution_count": 185,
   "metadata": {},
   "outputs": [],
   "source": [
    "for clueObj in clueObjects:\n",
    "    for clueSeg in clueObj.clueSegments:\n",
    "        ans = clueSeg.answerPart\n",
    "        if \"indicator\" in ans:\n",
    "            indicator = clueSeg.cluePart.rstrip(\" \").lstrip(\" \")\n",
    "            if \"anagram\" in ans:\n",
    "                anagramIndicators.add(indicator)\n",
    "            elif \"revers\" in ans:\n",
    "                reversalIndicators.add(indicator)\n",
    "            elif \"homophone\" in ans:\n",
    "                homophoneIndicators.add(indicator)\n",
    "            elif \"position\" in ans:\n",
    "                positionIndicators.add(indicator)\n",
    "            else:\n",
    "                otherIndicators.add(ans)"
   ]
  },
  {
   "cell_type": "code",
   "execution_count": 186,
   "metadata": {},
   "outputs": [
    {
     "name": "stdout",
     "output_type": "stream",
     "text": [
      "Anagram Indicators:\n",
      " {'travelling', 'damaging', 'handicap', 'consumed by baked', 'by awful', 'drawn', 'collapse', 'shot', 'to train', 'question', 'for damaged', 'Batty', 'mix-up', 'Broke', 'pie', 'and odd', 'action?', 'unsettles', 'stew', 'rotten', 'order', 'medley', 'produced by awful', 'play?', 'criminal', 'dish', 'Collected', 'Salad', '-fixing', 'engineer', 'tipsy', 'novel?', 'set', 'plays', 'manufactured', 'fabricating', 'salad', 'finds criminal', 'Wild', 'of new', 'trouble', 'all over the place', 'Angry', 'Fresh', 'cook', ', soup', 'Rocky', 'bizarre', 'Criminal', 'playing', 'of spoil', 'of trouble', 'settlement', 'rebel', 'Damaged', 'badly', 'in damaged', 'distributing', 'riot', 'from wild', 'Dizzy', 'switch', 'for new', 'running amok', 'blows up', 'of wild', 'working?', 'Building', 'worried', 'in mischievous', 'confused', 'falling into rocking', 'in unstable', 'fudge', 'swimming', 'in terrible', 'Lost', 'Translate', 'welcomes jazz', 'false', 'rewrites', 'rig', 'cocktail', 'jockey-', 'adapting', 'made-up', 'New', 'performing', '-off', 'mixing', 'boss', 'working', 'with new', 'sport', 'boil', 'Mask', 'damages', ', Free', 'from translated', 'Sport', 'Tour', 'tailored', 'fudges?', 'work', 'hairy', 'off', 'Freely', 'Train', 'consuming wrong', 'is sick', 'complex', 'sculpture', 'in wild', 'Problematic', 'broadcasted', 'twist', 'scheme', 'suspect', 'Horrible', 'baked', 'with foreign', 'dress', 'tour', 'drunk', 'clumsy', 'Odd', 'in new', 'structure', 'masquerading', 'organisation', 'Question?', 'consumed by new', 'with unpredictable', 'in stir-', 'flighty', 'go crazy', 'all at sea', 'in Rocky?', 'Wrong', 'show off', 'wrong', 'marshal', 'in exotic', 'Buckle', ', is crack', 'Questionable', 'bananas', 'confusing', 'training', 'anxious', 'to run', 'Mobile', 'mixed-up', 'of criminal', 'with work', 'show-off', 'Lark', 'out', 'chopping up', 'problem', 'in criminal', 'Unstable', 'works', 'foreign', ', butcher?', 'at random', 'to chop up', 'to doctors', 'unstable', ', crazy', 'Playing', 'cooked', 'demolishing', 'to new', 'manipulated', 'nuts', ', Rocky', 'novel', 'adaptation', ', wild', 'Mysterious', \"cook'\\x99s\", 'from criminal', 'Awful', 'with hash', 'consumes mixed', 'in foreign', \"'\\x93 oddly\", 'in revolutionary', 'produced', 'Wrong!', 'distracting', 'building', 'treatment', 'by crazy', 'various', 'Fishy', 'taken by meandering', 'fresh', 'doctor', 'in meandering', 'model', 'of hammer', 'freak out', 'Blows', 'involved in criminal', 'Sporting', 'foul?', 'meandering', 'travels', 'covering wild', 'break?', ', free', 'Dance', 'fan', 'mess', 'Strange', ', salad', 'Model', 'misprint', 'wasted', 'replacement', '-out?', 'forged', 'adapted', ', cuckoo', 'built', 'Dreadful', 'sabotaged', 'suspects', 'Corrupt', 'melody', 'awful', 'busy', 'in busy', 'Labour', 'Unravel', 'ground?', 'flying', 'running', 'showing off', 'production', 'changing', 'stews', 'Cure', 'up', 'break', 'Crazy', 'produced by', 'shaken', 'goes off', 'free', 'Confuses', 'on the rampage', 'in odd', 'play', '-shape', 'Poor', 'consumed by unreliable', 'admits sorting out', 'Whip', 'in awful', 'movement', 'designed', 'mysteriously', 'consumed by strange', 'with wild', 'creating', 'in fancy', 'broken', 'Travelling', 'lost', 'Hit', 'Drunk', 'treat?', 'overwhelmed violently', 'Play', 'from play', 'prepared', 'laying out', \"'\\x93 wobbly\", 'found in another', 'into unstable', 'Shots', 'to beat', 'rewritten', 'confuses!', 'chopped up', 'of poor', 'potentially', 'is consumed by awful', 'Rock'}\n",
      "\n",
      "Reversal Indicators:\n",
      " {'reflects', 'involved in setting up', 'back', 'up?', 'over flipping', 'Switching', 'Going back', 'sides severed up', 'going up', 'backtrack', 'knocking back', 'cutbacks', 'drawing up', 'Rising', 'Show up', 'Reviews', 'Upsetting', 'to some revolutionary', 'Switches', 'going around', 'in flipping', 'chewed up', 'arising', 'concealed by rising', 'Is backed', 'raises', ', recalling', \"what'\\x99s upsetting\", 'upsetting', 'for knocking back', 'serves up', 'in both sides of revolutionary', 'to do with rising', 'back?', \"'\\x93 rise\", 'in this revolutionary', 'Served up', 'Flips over', 'return', 'by revolutionary', 'The extremes of retrograde', 'Knocks over', 'all turned up', 'turns it around', 'Knocks back', 'shows up', 'goes back', 'setting up', 'getting back', 'is upset', 'holding up', 'Sample of upsetting', 'raised', 'of upsetting', 'On reflection', \"'\\x93 that'\\x99s a reflection on them all\", 'retired', 'buried up', 'House painters tied up', 'knocks back', 'content recalled', 'Spins', 'goes around in reversible', 'bringing up', 'putting up', 'going back', 'Some upsetting', 'Turns up', 'backed', 'Rejects', 'on the rise', 'sets up', 'in retrospect', 'about setting up', 'picking up', 'is going up', 'giving up', 'head over heels', 'characters sitting up', 'and wind-up', 'twist', 'Characters in upcoming', 'is tied up', 'ripped up', 'Covered up', 'of setting up', 'from revolutionary', 'going back over', 'served up =', 'falling over', 'Gets caught up', 'set-up', 'Goes around', 'Bottled up', 'Bit of uplifting', 'All characters in Revolution', 'to serve up', 'returning', ', backing up', 'Serves up', 'recalled', 'looking back', 'Raised', ', fall all over everything', 'about', 'backtracking', 'Serving up', 'Digs up', 'around', 'doing a U-turn', 'caught up', 'Characters in revolutionary\\xa0', ', holding up', 'dug up', 'wound-up', 'Recalls', 'of revolutionary', 'revisionism', ', sending up', 'swimming around', 'and cutback?', 'dressed-up', 'all the way back', 'Flip', \"what'\\x99s caught up\", 'all picked up', 'set up', 'Knocking back', 'winds up', 'comes up', 'raising all', 'about backing', 'overlooking', 'of setting it up', 'Sets up', 'Looks up', 'in revolutionary', 'flip', 'comes back', 'retiring', 'to backing', 'gives rise', 'staggering back', 'flying around', 'revolutionary', 'turns', 'backing', \"'\\x93 all coming back\", 'goes all the way back', 'reviews', 'Dig up', 'all those retiring', 'served up', ', rebellious', 'Sets-up', 'to dig up', 'Looking back', 'is sent back', 'near rising', 'upset', \"'\\x93 Boomerang'\\x99s\", ', in retrospect', 'coming back', 'Goes over', 'Upsets', 'Returns', 'taken up', 'Roll back', 'those characters taken in by revolutionary', 'to pick up', 'reviewed', 'Apparent, in a backward way', 'Flipping', 'Recollects', 'of uplifting', 'Some revolutionary', 'return =', 'in knocked back', 'Revolution', 'Retiring', 'characters embraced by rising', 'with back', 'Knock back', 'out of retrograde', 'sent back', 'up', 'Recalling', 'reflected', ', upset', 'All turn up', 'turning up', 'Raise', 'retreat', 'sending up', 'on rebellious', 'to twist it up', 'to picking up', 'locked up', 'reversing', 'Some characters in upsetting', ', served up', 'over', 'found up', 'in uplifting', 'Revolutionary', 'of serving up', 'Some backward', 'retires', 'The limits to raising', 'Uplifting', 'of the way back', 'In retrospect', 'review', 'upsets', 'of spinning', 'is uphill', 'Backs', 'rises', 'knocked back', \"Logical proof bank'\\x99s backing\", ', Review', 'from flipping', 'fell over', 'upside-down', 'back up', 'of those revolting', 'going all the way back', 'trips up', 'Limits to setting up', 'in backing', 'for revolting'}\n",
      "\n",
      "Homophone Indicators:\n",
      " {'sounding', 'promoted, we hear', 'told', 'Sounds like', 'reportedly', 'Heard', 'State', 'on satnav', 'word, in a manner of speaking', 'for what sounds like', 'speech', 'taken in by saying of', 'says', 'sounds', 'Speech', ', in a manner of speaking', 'on the radio', ', vocal', 'in a manner of speaking', 'state', 'state?', 'broadcasted', 'heard', 'by the sound of it', 'speaking', 'hearing', 'reporting', 'around States', 'report', 'on the radio?', 'say', 'sounds like'}\n",
      "\n",
      "Position Indicators:\n",
      " {'to after', 'behind', 'in the end', \"It'\\x99s the end for\", 'initially', 'around', 'in front of', 'is behind', 'before', 'Behind', ', after', ', primarily', 'from the start', 'first', 'opening', 'following', 'on the other side of', 'finally', 'follows', 'to go after', 'is not the first', 'on first', 'after', 'finishing', 'inside'}\n"
     ]
    }
   ],
   "source": [
    "print(\"Anagram Indicators:\\n\", anagramIndicators)\n",
    "print(\"\\nReversal Indicators:\\n\", reversalIndicators)\n",
    "print(\"\\nHomophone Indicators:\\n\", homophoneIndicators)\n",
    "print(\"\\nPosition Indicators:\\n\", positionIndicators)"
   ]
  },
  {
   "cell_type": "code",
   "execution_count": null,
   "metadata": {},
   "outputs": [],
   "source": []
  }
 ],
 "metadata": {
  "kernelspec": {
   "display_name": "Python 3",
   "language": "python",
   "name": "python3"
  },
  "language_info": {
   "codemirror_mode": {
    "name": "ipython",
    "version": 3
   },
   "file_extension": ".py",
   "mimetype": "text/x-python",
   "name": "python",
   "nbconvert_exporter": "python",
   "pygments_lexer": "ipython3",
   "version": "3.7.3"
  }
 },
 "nbformat": 4,
 "nbformat_minor": 4
}
