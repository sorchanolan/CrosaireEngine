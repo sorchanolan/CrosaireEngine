{
 "cells": [
  {
   "cell_type": "code",
   "execution_count": 105,
   "metadata": {},
   "outputs": [
    {
     "name": "stdout",
     "output_type": "stream",
     "text": [
      "Requirement already satisfied: lxml in ./.pyenv/versions/3.7.3/lib/python3.7/site-packages (4.5.2)\n",
      "\u001b[33mYou are using pip version 19.0.3, however version 20.2.3 is available.\n",
      "You should consider upgrading via the 'pip install --upgrade pip' command.\u001b[0m\n",
      "Collecting numpy\n",
      "\u001b[?25l  Downloading https://files.pythonhosted.org/packages/c1/a9/f04a5b7db30cc30b41fe516b8914c5049264490a34a49d977937606fbb23/numpy-1.19.2-cp37-cp37m-macosx_10_9_x86_64.whl (15.3MB)\n",
      "\u001b[K    100% |████████████████████████████████| 15.3MB 1.7MB/s eta 0:00:01   17% |█████▋                          | 2.7MB 7.0MB/s eta 0:00:02\n",
      "\u001b[?25hInstalling collected packages: numpy\n",
      "Successfully installed numpy-1.19.2\n",
      "\u001b[33mYou are using pip version 19.0.3, however version 20.2.3 is available.\n",
      "You should consider upgrading via the 'pip install --upgrade pip' command.\u001b[0m\n"
     ]
    }
   ],
   "source": [
    "!pip install lxml\n",
    "!pip install numpy"
   ]
  },
  {
   "cell_type": "code",
   "execution_count": 106,
   "metadata": {},
   "outputs": [],
   "source": [
    "from lxml import html\n",
    "import requests\n",
    "import numpy as np\n",
    "# -*- coding: utf-8 -*-"
   ]
  },
  {
   "cell_type": "code",
   "execution_count": 120,
   "metadata": {},
   "outputs": [],
   "source": [
    "base_url = \"https://www.irishtimes.com\"\n",
    "blog_url = \"/crosaire-blog\"\n",
    "paginated_url = \"?sectionTeaserPage-7.4322291=\"\n",
    "crosaire_url = base_url + blog_url + paginated_url"
   ]
  },
  {
   "cell_type": "code",
   "execution_count": 126,
   "metadata": {},
   "outputs": [],
   "source": [
    "def pull_clues(page_count):\n",
    "    clues = []\n",
    "    \n",
    "    for i in range(page_count):\n",
    "        page = requests.get(crosaire_url + str(i))\n",
    "        tree = html.fromstring(page.content)\n",
    "        links = tree.xpath('''\n",
    "            //body/div[@id=\"wrapper\"]\n",
    "            /div[@id=\"torso\"]/div[@class=\"container\"]/div[@class=\"bt-container\"]\n",
    "            /div[@class=\"row\"]/div[@id=\"content_left\"]/div[@class=\"row sectionteaser\"]\n",
    "            /div/a''')\n",
    "\n",
    "        for elt in links:\n",
    "            clue_page_url = base_url + elt.attrib['href']\n",
    "            clue_page = requests.get(clue_page_url)\n",
    "            clue_tree = html.fromstring(clue_page.content)\n",
    "\n",
    "            clue_list = clue_tree.xpath('''//body/div[@id=\"wrapper\"]\n",
    "                /div[@id=\"torso\"]/div[@class=\"container\"]/div[@class=\"bt-container\"]\n",
    "                /div[@class=\"row\"]/div[@id=\"content_left\"]/article[@class=\"article row\"]\n",
    "                /div[@class=\"article_holder span8 genre-advice\"]/section[@class=\"article_body\"]\n",
    "                /div[@class=\"article_bodycopy\"]/p''')\n",
    "\n",
    "            for clue in clue_list:\n",
    "                clues.append(clue.text_content().replace(\"â\",\"\\'\"))\n",
    "    \n",
    "    return clues"
   ]
  },
  {
   "cell_type": "code",
   "execution_count": 127,
   "metadata": {},
   "outputs": [],
   "source": [
    "clues = pull_clues(10)"
   ]
  },
  {
   "cell_type": "code",
   "execution_count": 125,
   "metadata": {},
   "outputs": [
    {
     "name": "stdout",
     "output_type": "stream",
     "text": [
      "2916\n"
     ]
    }
   ],
   "source": [
    "print(len(clues))"
   ]
  },
  {
   "cell_type": "code",
   "execution_count": null,
   "metadata": {},
   "outputs": [],
   "source": [
    "for clue in clues:\n",
    "    "
   ]
  }
 ],
 "metadata": {
  "kernelspec": {
   "display_name": "Python 3",
   "language": "python",
   "name": "python3"
  },
  "language_info": {
   "codemirror_mode": {
    "name": "ipython",
    "version": 3
   },
   "file_extension": ".py",
   "mimetype": "text/x-python",
   "name": "python",
   "nbconvert_exporter": "python",
   "pygments_lexer": "ipython3",
   "version": "3.7.3"
  }
 },
 "nbformat": 4,
 "nbformat_minor": 4
}
